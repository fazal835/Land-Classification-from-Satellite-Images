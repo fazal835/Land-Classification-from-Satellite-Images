{
 "cells": [
  {
   "cell_type": "code",
   "execution_count": 38,
   "metadata": {
    "scrolled": true
   },
   "outputs": [
    {
     "name": "stdout",
     "output_type": "stream",
     "text": [
      "(1314, 1366)\n"
     ]
    }
   ],
   "source": [
    "from PIL import Image\n",
    "import numpy as np\n",
    "import pandas as pd\n",
    "im = Image.open('0.tif')\n",
    "\n",
    "data = np.asarray(im)\n",
    "print(data.shape)\n",
    "data=data.flatten() \n",
    "df=pd.DataFrame();\n",
    "df[0]=data\n",
    "\n",
    "im = Image.open('20.tif')\n",
    "data = np.asarray(im)\n",
    "data=data.flatten() \n",
    "df[1]=data\n",
    "im = Image.open('40.tif')\n",
    "data = np.asarray(im)\n",
    "data=data.flatten() \n",
    "df[2]=data\n",
    "im = Image.open('60.tif')\n",
    "data = np.asarray(im)\n",
    "data=data.flatten() \n",
    "df[3]=data\n",
    "im = Image.open('80.tif')\n",
    "data = np.asarray(im)\n",
    "data=data.flatten() \n",
    "df[4]=data\n",
    "im = Image.open('100.tif')\n",
    "data = np.asarray(im)\n",
    "data=data.flatten() \n",
    "df[5]=data\n",
    "im = Image.open('120.tif')\n",
    "data = np.asarray(im)\n",
    "data=data.flatten() \n",
    "df[6]=data\n",
    "im = Image.open('140.tif')\n",
    "data = np.asarray(im)\n",
    "data=data.flatten() \n",
    "df[7]=data\n",
    "im = Image.open('160.tif')\n",
    "data = np.asarray(im)\n",
    "data=data.flatten() \n",
    "df[8]=data\n",
    "im = Image.open('180.tif')\n",
    "data = np.asarray(im)\n",
    "data=data.flatten() \n",
    "df[9]=data\n",
    "df.to_csv('valas123.csv')\n",
    "#valas123.csv contain stacked 10 images data set"
   ]
  }
 ],
 "metadata": {
  "kernelspec": {
   "display_name": "Python 3",
   "language": "python",
   "name": "python3"
  },
  "language_info": {
   "codemirror_mode": {
    "name": "ipython",
    "version": 3
   },
   "file_extension": ".py",
   "mimetype": "text/x-python",
   "name": "python",
   "nbconvert_exporter": "python",
   "pygments_lexer": "ipython3",
   "version": "3.8.3"
  }
 },
 "nbformat": 4,
 "nbformat_minor": 4
}
