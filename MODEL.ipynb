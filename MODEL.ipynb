{
 "cells": [
  {
   "cell_type": "code",
   "execution_count": 2,
   "metadata": {},
   "outputs": [
    {
     "name": "stdout",
     "output_type": "stream",
     "text": [
      "Libraries Imported\n"
     ]
    }
   ],
   "source": [
    "#Importing Libraries\n",
    "import numpy as np\n",
    "import pandas as pd\n",
    "import joblib\n",
    "from sklearn.model_selection import train_test_split\n",
    "from sklearn.preprocessing import StandardScaler\n",
    "from sklearn.ensemble import RandomForestClassifier\n",
    "from sklearn.metrics import confusion_matrix\n",
    "from sklearn.metrics import accuracy_score\n",
    "from sklearn.model_selection import learning_curve\n",
    "print('Libraries Imported')"
   ]
  },
  {
   "cell_type": "code",
   "execution_count": 125,
   "metadata": {},
   "outputs": [
    {
     "name": "stdout",
     "output_type": "stream",
     "text": [
      "(17833, 14)\n",
      "Index(['Forest', 'Urban', 'Barren', 'Water'], dtype='object')\n",
      "(3426, 10)\n",
      "0.9953298307063632\n"
     ]
    }
   ],
   "source": [
    "df = pd.read_csv('Training_Data.csv')\n",
    "print(df.shape)\n",
    "df.dropna(inplace=True)\n",
    "\n",
    "factor = pd.factorize(df['Class'])\n",
    "df.Class = factor[0]\n",
    "definitions = factor[1]\n",
    "print(factor[1])\n",
    "X = df.iloc[1:,3:13].values\n",
    "y = df.iloc[1:,13].values\n",
    "\n",
    "X_train, X_test, y_train, y_test = train_test_split(X, y, test_size = 0.2, random_state = 21)\n",
    "print(X_test.shape)\n",
    "from sklearn.neighbors import KNeighborsClassifier\n",
    "\n",
    "k_range = range(1, 6)\n",
    "\n",
    "scores = []\n",
    "\n",
    "knn = KNeighborsClassifier(n_neighbors=3)\n",
    "knn.fit(X_train, y_train)\n",
    "###########################################################\n",
    "\n",
    "# classifier = RandomForestClassifier(n_estimators = 30, criterion = 'entropy', random_state = 42)\n",
    "# classifier.fit(X_train, y_train)\n",
    "\n",
    "y_pred = knn.predict(X_test)\n",
    "\n",
    "reversefactor = dict(zip(range(3),definitions))\n",
    "\n",
    "y_test = np.vectorize(reversefactor.get)(y_test)\n",
    "y_pred = np.vectorize(reversefactor.get)(y_pred)\n",
    "\n",
    "print(accuracy_score(y_test, y_pred))"
   ]
  },
  {
   "cell_type": "code",
   "execution_count": 126,
   "metadata": {},
   "outputs": [
    {
     "name": "stdout",
     "output_type": "stream",
     "text": [
      "(897370, 10)\n"
     ]
    }
   ],
   "source": [
    "\n",
    "Xasd=pd.read_csv('valas123.csv')\n",
    "#valas123.csv contain stacked 10 images data set\n",
    "Xasd.dropna(inplace=True)\n",
    "\n",
    "\n",
    "Xasd=Xasd.iloc[1:,1:].values\n",
    "print(Xasd.shape)\n",
    "y_pred = knn.predict(Xasd)\n",
    "\n",
    "out=pd.DataFrame()\n",
    "out[0]=y_pred\n",
    "out[0].value_counts()\n",
    "out.to_csv('out2.csv')\n",
    "#out2.csv contain the predicted output from the given input valas123"
   ]
  }
 ],
 "metadata": {
  "kernelspec": {
   "display_name": "Python 3",
   "language": "python",
   "name": "python3"
  },
  "language_info": {
   "codemirror_mode": {
    "name": "ipython",
    "version": 3
   },
   "file_extension": ".py",
   "mimetype": "text/x-python",
   "name": "python",
   "nbconvert_exporter": "python",
   "pygments_lexer": "ipython3",
   "version": "3.8.3"
  }
 },
 "nbformat": 4,
 "nbformat_minor": 4
}
