{
 "cells": [
  {
   "cell_type": "code",
   "execution_count": 64,
   "metadata": {},
   "outputs": [
    {
     "name": "stdout",
     "output_type": "stream",
     "text": [
      "nan\n",
      "897371\n"
     ]
    }
   ],
   "source": [
    "import pandas as pd\n",
    "from PIL import Image\n",
    "import numpy as np\n",
    "import math\n",
    "out1=pd.read_csv('out2.csv')\n",
    "x=pd.read_csv('valas123.csv')\n",
    "y=out1['0']\n",
    "y=y.to_numpy()\n",
    "\n",
    "l=0\n",
    "r=0\n",
    "x=x.to_numpy()\n",
    "im = np.zeros((1314, 1366, 3),dtype=np.uint8)\n",
    "print(x[0][1])\n",
    "for i in range(1314):\n",
    "    for j in range(1366):\n",
    "        if math.isnan(x[r][1]):\n",
    "            im[i][j][0]=0\n",
    "            im[i][j][1]=0\n",
    "            im[i][j][2]=0\n",
    "        else:\n",
    "            if l<897370 and y[l]==0: #forest\n",
    "                im[i][j][0]=34\n",
    "                im[i][j][1]=139\n",
    "                im[i][j][2]=34\n",
    "            elif l<897370 and y[l]==1: #urban\n",
    "                im[i][j][0]=255\n",
    "                im[i][j][1]=255\n",
    "                im[i][j][2]=0\n",
    "            elif l<897370 and y[l]==2: #Barren\n",
    "                im[i][j][0]=255\n",
    "                im[i][j][1]=0\n",
    "                im[i][j][2]=0\n",
    "            elif l<897370 and y[l]==3: # Water\n",
    "                im[i][j][0]=0\n",
    "                im[i][j][1]=0\n",
    "                im[i][j][2]=250\n",
    "            l=l+1\n",
    "        r=r+1\n",
    "\n",
    "img = Image.fromarray(im, 'RGB')\n",
    "img.save('test1.tif')\n",
    "img.show()\n"
   ]
  }
 ],
 "metadata": {
  "kernelspec": {
   "display_name": "Python 3",
   "language": "python",
   "name": "python3"
  },
  "language_info": {
   "codemirror_mode": {
    "name": "ipython",
    "version": 3
   },
   "file_extension": ".py",
   "mimetype": "text/x-python",
   "name": "python",
   "nbconvert_exporter": "python",
   "pygments_lexer": "ipython3",
   "version": "3.8.3"
  }
 },
 "nbformat": 4,
 "nbformat_minor": 4
}
